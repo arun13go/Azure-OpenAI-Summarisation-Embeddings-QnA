{
 "cells": [
  {
   "cell_type": "code",
   "execution_count": 1,
   "metadata": {},
   "outputs": [
    {
     "name": "stderr",
     "output_type": "stream",
     "text": [
      "None of PyTorch, TensorFlow >= 2.0, or Flax have been found. Models won't be available and only tokenizers, configuration and file/data utilities can be used.\n"
     ]
    },
    {
     "name": "stdout",
     "output_type": "stream",
     "text": [
      "Index does not exist\n",
      "Creating embeddings index\n"
     ]
    },
    {
     "ename": "ConnectionError",
     "evalue": "Error 11001 connecting to YOUR REDIS STORE ENDPOINT:6379. getaddrinfo failed.",
     "output_type": "error",
     "traceback": [
      "\u001b[1;31m---------------------------------------------------------------------------\u001b[0m",
      "\u001b[1;31mgaierror\u001b[0m                                  Traceback (most recent call last)",
      "File \u001b[1;32mc:\\Arun\\Workspace\\OpenAI\\Azure-OpenAI-Summarisation-Embeddings-QnA\\.venv\\Lib\\site-packages\\redis\\connection.py:624\u001b[0m, in \u001b[0;36mConnection.connect\u001b[1;34m(self)\u001b[0m\n\u001b[0;32m    623\u001b[0m \u001b[39mtry\u001b[39;00m:\n\u001b[1;32m--> 624\u001b[0m     sock \u001b[39m=\u001b[39m \u001b[39mself\u001b[39;49m\u001b[39m.\u001b[39;49mretry\u001b[39m.\u001b[39;49mcall_with_retry(\n\u001b[0;32m    625\u001b[0m         \u001b[39mlambda\u001b[39;49;00m: \u001b[39mself\u001b[39;49m\u001b[39m.\u001b[39;49m_connect(), \u001b[39mlambda\u001b[39;49;00m error: \u001b[39mself\u001b[39;49m\u001b[39m.\u001b[39;49mdisconnect(error)\n\u001b[0;32m    626\u001b[0m     )\n\u001b[0;32m    627\u001b[0m \u001b[39mexcept\u001b[39;00m socket\u001b[39m.\u001b[39mtimeout:\n",
      "File \u001b[1;32mc:\\Arun\\Workspace\\OpenAI\\Azure-OpenAI-Summarisation-Embeddings-QnA\\.venv\\Lib\\site-packages\\redis\\retry.py:46\u001b[0m, in \u001b[0;36mRetry.call_with_retry\u001b[1;34m(self, do, fail)\u001b[0m\n\u001b[0;32m     45\u001b[0m \u001b[39mtry\u001b[39;00m:\n\u001b[1;32m---> 46\u001b[0m     \u001b[39mreturn\u001b[39;00m do()\n\u001b[0;32m     47\u001b[0m \u001b[39mexcept\u001b[39;00m \u001b[39mself\u001b[39m\u001b[39m.\u001b[39m_supported_errors \u001b[39mas\u001b[39;00m error:\n",
      "File \u001b[1;32mc:\\Arun\\Workspace\\OpenAI\\Azure-OpenAI-Summarisation-Embeddings-QnA\\.venv\\Lib\\site-packages\\redis\\connection.py:625\u001b[0m, in \u001b[0;36mConnection.connect.<locals>.<lambda>\u001b[1;34m()\u001b[0m\n\u001b[0;32m    623\u001b[0m \u001b[39mtry\u001b[39;00m:\n\u001b[0;32m    624\u001b[0m     sock \u001b[39m=\u001b[39m \u001b[39mself\u001b[39m\u001b[39m.\u001b[39mretry\u001b[39m.\u001b[39mcall_with_retry(\n\u001b[1;32m--> 625\u001b[0m         \u001b[39mlambda\u001b[39;00m: \u001b[39mself\u001b[39;49m\u001b[39m.\u001b[39;49m_connect(), \u001b[39mlambda\u001b[39;00m error: \u001b[39mself\u001b[39m\u001b[39m.\u001b[39mdisconnect(error)\n\u001b[0;32m    626\u001b[0m     )\n\u001b[0;32m    627\u001b[0m \u001b[39mexcept\u001b[39;00m socket\u001b[39m.\u001b[39mtimeout:\n",
      "File \u001b[1;32mc:\\Arun\\Workspace\\OpenAI\\Azure-OpenAI-Summarisation-Embeddings-QnA\\.venv\\Lib\\site-packages\\redis\\connection.py:658\u001b[0m, in \u001b[0;36mConnection._connect\u001b[1;34m(self)\u001b[0m\n\u001b[0;32m    657\u001b[0m err \u001b[39m=\u001b[39m \u001b[39mNone\u001b[39;00m\n\u001b[1;32m--> 658\u001b[0m \u001b[39mfor\u001b[39;00m res \u001b[39min\u001b[39;00m socket\u001b[39m.\u001b[39;49mgetaddrinfo(\n\u001b[0;32m    659\u001b[0m     \u001b[39mself\u001b[39;49m\u001b[39m.\u001b[39;49mhost, \u001b[39mself\u001b[39;49m\u001b[39m.\u001b[39;49mport, \u001b[39mself\u001b[39;49m\u001b[39m.\u001b[39;49msocket_type, socket\u001b[39m.\u001b[39;49mSOCK_STREAM\n\u001b[0;32m    660\u001b[0m ):\n\u001b[0;32m    661\u001b[0m     family, socktype, proto, canonname, socket_address \u001b[39m=\u001b[39m res\n",
      "File \u001b[1;32m~\\AppData\\Local\\Programs\\Python\\Python311\\Lib\\socket.py:961\u001b[0m, in \u001b[0;36mgetaddrinfo\u001b[1;34m(host, port, family, type, proto, flags)\u001b[0m\n\u001b[0;32m    960\u001b[0m addrlist \u001b[39m=\u001b[39m []\n\u001b[1;32m--> 961\u001b[0m \u001b[39mfor\u001b[39;00m res \u001b[39min\u001b[39;00m _socket\u001b[39m.\u001b[39;49mgetaddrinfo(host, port, family, \u001b[39mtype\u001b[39;49m, proto, flags):\n\u001b[0;32m    962\u001b[0m     af, socktype, proto, canonname, sa \u001b[39m=\u001b[39m res\n",
      "\u001b[1;31mgaierror\u001b[0m: [Errno 11001] getaddrinfo failed",
      "\nDuring handling of the above exception, another exception occurred:\n",
      "\u001b[1;31mConnectionError\u001b[0m                           Traceback (most recent call last)",
      "File \u001b[1;32mc:\\Arun/Workspace/OpenAI/Azure-OpenAI-Summarisation-Embeddings-QnA/utilities\\redisembeddings.py:28\u001b[0m, in \u001b[0;36minitialize\u001b[1;34m()\u001b[0m\n\u001b[0;32m     27\u001b[0m \u001b[39mtry\u001b[39;00m:\n\u001b[1;32m---> 28\u001b[0m     \u001b[39mif\u001b[39;00m redis_conn\u001b[39m.\u001b[39;49mft(index_name)\u001b[39m.\u001b[39;49minfo():\n\u001b[0;32m     29\u001b[0m         \u001b[39mprint\u001b[39m(\u001b[39m\"\u001b[39m\u001b[39mIndex exists\u001b[39m\u001b[39m\"\u001b[39m)\n",
      "File \u001b[1;32mc:\\Arun\\Workspace\\OpenAI\\Azure-OpenAI-Summarisation-Embeddings-QnA\\.venv\\Lib\\site-packages\\redis\\commands\\search\\commands.py:370\u001b[0m, in \u001b[0;36mSearchCommands.info\u001b[1;34m(self)\u001b[0m\n\u001b[0;32m    363\u001b[0m \u001b[39m\u001b[39m\u001b[39m\"\"\"\u001b[39;00m\n\u001b[0;32m    364\u001b[0m \u001b[39mGet info an stats about the the current index, including the number of\u001b[39;00m\n\u001b[0;32m    365\u001b[0m \u001b[39mdocuments, memory consumption, etc\u001b[39;00m\n\u001b[0;32m    366\u001b[0m \n\u001b[0;32m    367\u001b[0m \u001b[39mFor more information see `FT.INFO <https://redis.io/commands/ft.info>`_.\u001b[39;00m\n\u001b[0;32m    368\u001b[0m \u001b[39m\"\"\"\u001b[39;00m\n\u001b[1;32m--> 370\u001b[0m res \u001b[39m=\u001b[39m \u001b[39mself\u001b[39;49m\u001b[39m.\u001b[39;49mexecute_command(INFO_CMD, \u001b[39mself\u001b[39;49m\u001b[39m.\u001b[39;49mindex_name)\n\u001b[0;32m    371\u001b[0m it \u001b[39m=\u001b[39m \u001b[39mmap\u001b[39m(to_string, res)\n",
      "File \u001b[1;32mc:\\Arun\\Workspace\\OpenAI\\Azure-OpenAI-Summarisation-Embeddings-QnA\\.venv\\Lib\\site-packages\\redis\\client.py:1255\u001b[0m, in \u001b[0;36mRedis.execute_command\u001b[1;34m(self, *args, **options)\u001b[0m\n\u001b[0;32m   1254\u001b[0m command_name \u001b[39m=\u001b[39m args[\u001b[39m0\u001b[39m]\n\u001b[1;32m-> 1255\u001b[0m conn \u001b[39m=\u001b[39m \u001b[39mself\u001b[39m\u001b[39m.\u001b[39mconnection \u001b[39mor\u001b[39;00m pool\u001b[39m.\u001b[39;49mget_connection(command_name, \u001b[39m*\u001b[39;49m\u001b[39m*\u001b[39;49moptions)\n\u001b[0;32m   1257\u001b[0m \u001b[39mtry\u001b[39;00m:\n",
      "File \u001b[1;32mc:\\Arun\\Workspace\\OpenAI\\Azure-OpenAI-Summarisation-Embeddings-QnA\\.venv\\Lib\\site-packages\\redis\\connection.py:1427\u001b[0m, in \u001b[0;36mConnectionPool.get_connection\u001b[1;34m(self, command_name, *keys, **options)\u001b[0m\n\u001b[0;32m   1425\u001b[0m \u001b[39mtry\u001b[39;00m:\n\u001b[0;32m   1426\u001b[0m     \u001b[39m# ensure this connection is connected to Redis\u001b[39;00m\n\u001b[1;32m-> 1427\u001b[0m     connection\u001b[39m.\u001b[39;49mconnect()\n\u001b[0;32m   1428\u001b[0m     \u001b[39m# connections that the pool provides should be ready to send\u001b[39;00m\n\u001b[0;32m   1429\u001b[0m     \u001b[39m# a command. if not, the connection was either returned to the\u001b[39;00m\n\u001b[0;32m   1430\u001b[0m     \u001b[39m# pool before all data has been read or the socket has been\u001b[39;00m\n\u001b[0;32m   1431\u001b[0m     \u001b[39m# closed. either way, reconnect and verify everything is good.\u001b[39;00m\n",
      "File \u001b[1;32mc:\\Arun\\Workspace\\OpenAI\\Azure-OpenAI-Summarisation-Embeddings-QnA\\.venv\\Lib\\site-packages\\redis\\connection.py:630\u001b[0m, in \u001b[0;36mConnection.connect\u001b[1;34m(self)\u001b[0m\n\u001b[0;32m    629\u001b[0m \u001b[39mexcept\u001b[39;00m \u001b[39mOSError\u001b[39;00m \u001b[39mas\u001b[39;00m e:\n\u001b[1;32m--> 630\u001b[0m     \u001b[39mraise\u001b[39;00m \u001b[39mConnectionError\u001b[39;00m(\u001b[39mself\u001b[39m\u001b[39m.\u001b[39m_error_message(e))\n\u001b[0;32m    632\u001b[0m \u001b[39mself\u001b[39m\u001b[39m.\u001b[39m_sock \u001b[39m=\u001b[39m sock\n",
      "\u001b[1;31mConnectionError\u001b[0m: Error 11001 connecting to YOUR REDIS STORE ENDPOINT:6379. getaddrinfo failed.",
      "\nDuring handling of the above exception, another exception occurred:\n",
      "\u001b[1;31mgaierror\u001b[0m                                  Traceback (most recent call last)",
      "File \u001b[1;32mc:\\Arun\\Workspace\\OpenAI\\Azure-OpenAI-Summarisation-Embeddings-QnA\\.venv\\Lib\\site-packages\\redis\\connection.py:624\u001b[0m, in \u001b[0;36mConnection.connect\u001b[1;34m(self)\u001b[0m\n\u001b[0;32m    623\u001b[0m \u001b[39mtry\u001b[39;00m:\n\u001b[1;32m--> 624\u001b[0m     sock \u001b[39m=\u001b[39m \u001b[39mself\u001b[39;49m\u001b[39m.\u001b[39;49mretry\u001b[39m.\u001b[39;49mcall_with_retry(\n\u001b[0;32m    625\u001b[0m         \u001b[39mlambda\u001b[39;49;00m: \u001b[39mself\u001b[39;49m\u001b[39m.\u001b[39;49m_connect(), \u001b[39mlambda\u001b[39;49;00m error: \u001b[39mself\u001b[39;49m\u001b[39m.\u001b[39;49mdisconnect(error)\n\u001b[0;32m    626\u001b[0m     )\n\u001b[0;32m    627\u001b[0m \u001b[39mexcept\u001b[39;00m socket\u001b[39m.\u001b[39mtimeout:\n",
      "File \u001b[1;32mc:\\Arun\\Workspace\\OpenAI\\Azure-OpenAI-Summarisation-Embeddings-QnA\\.venv\\Lib\\site-packages\\redis\\retry.py:46\u001b[0m, in \u001b[0;36mRetry.call_with_retry\u001b[1;34m(self, do, fail)\u001b[0m\n\u001b[0;32m     45\u001b[0m \u001b[39mtry\u001b[39;00m:\n\u001b[1;32m---> 46\u001b[0m     \u001b[39mreturn\u001b[39;00m do()\n\u001b[0;32m     47\u001b[0m \u001b[39mexcept\u001b[39;00m \u001b[39mself\u001b[39m\u001b[39m.\u001b[39m_supported_errors \u001b[39mas\u001b[39;00m error:\n",
      "File \u001b[1;32mc:\\Arun\\Workspace\\OpenAI\\Azure-OpenAI-Summarisation-Embeddings-QnA\\.venv\\Lib\\site-packages\\redis\\connection.py:625\u001b[0m, in \u001b[0;36mConnection.connect.<locals>.<lambda>\u001b[1;34m()\u001b[0m\n\u001b[0;32m    623\u001b[0m \u001b[39mtry\u001b[39;00m:\n\u001b[0;32m    624\u001b[0m     sock \u001b[39m=\u001b[39m \u001b[39mself\u001b[39m\u001b[39m.\u001b[39mretry\u001b[39m.\u001b[39mcall_with_retry(\n\u001b[1;32m--> 625\u001b[0m         \u001b[39mlambda\u001b[39;00m: \u001b[39mself\u001b[39;49m\u001b[39m.\u001b[39;49m_connect(), \u001b[39mlambda\u001b[39;00m error: \u001b[39mself\u001b[39m\u001b[39m.\u001b[39mdisconnect(error)\n\u001b[0;32m    626\u001b[0m     )\n\u001b[0;32m    627\u001b[0m \u001b[39mexcept\u001b[39;00m socket\u001b[39m.\u001b[39mtimeout:\n",
      "File \u001b[1;32mc:\\Arun\\Workspace\\OpenAI\\Azure-OpenAI-Summarisation-Embeddings-QnA\\.venv\\Lib\\site-packages\\redis\\connection.py:658\u001b[0m, in \u001b[0;36mConnection._connect\u001b[1;34m(self)\u001b[0m\n\u001b[0;32m    657\u001b[0m err \u001b[39m=\u001b[39m \u001b[39mNone\u001b[39;00m\n\u001b[1;32m--> 658\u001b[0m \u001b[39mfor\u001b[39;00m res \u001b[39min\u001b[39;00m socket\u001b[39m.\u001b[39;49mgetaddrinfo(\n\u001b[0;32m    659\u001b[0m     \u001b[39mself\u001b[39;49m\u001b[39m.\u001b[39;49mhost, \u001b[39mself\u001b[39;49m\u001b[39m.\u001b[39;49mport, \u001b[39mself\u001b[39;49m\u001b[39m.\u001b[39;49msocket_type, socket\u001b[39m.\u001b[39;49mSOCK_STREAM\n\u001b[0;32m    660\u001b[0m ):\n\u001b[0;32m    661\u001b[0m     family, socktype, proto, canonname, socket_address \u001b[39m=\u001b[39m res\n",
      "File \u001b[1;32m~\\AppData\\Local\\Programs\\Python\\Python311\\Lib\\socket.py:961\u001b[0m, in \u001b[0;36mgetaddrinfo\u001b[1;34m(host, port, family, type, proto, flags)\u001b[0m\n\u001b[0;32m    960\u001b[0m addrlist \u001b[39m=\u001b[39m []\n\u001b[1;32m--> 961\u001b[0m \u001b[39mfor\u001b[39;00m res \u001b[39min\u001b[39;00m _socket\u001b[39m.\u001b[39;49mgetaddrinfo(host, port, family, \u001b[39mtype\u001b[39;49m, proto, flags):\n\u001b[0;32m    962\u001b[0m     af, socktype, proto, canonname, sa \u001b[39m=\u001b[39m res\n",
      "\u001b[1;31mgaierror\u001b[0m: [Errno 11001] getaddrinfo failed",
      "\nDuring handling of the above exception, another exception occurred:\n",
      "\u001b[1;31mConnectionError\u001b[0m                           Traceback (most recent call last)",
      "Cell \u001b[1;32mIn[1], line 35\u001b[0m\n\u001b[0;32m     32\u001b[0m filename\u001b[39m=\u001b[39m\u001b[39m\"\u001b[39m\u001b[39mDOCUMENT NAME\u001b[39m\u001b[39m\"\u001b[39m\n\u001b[0;32m     34\u001b[0m \u001b[39m# initialise all the required parameters for OpenAI to run\u001b[39;00m\n\u001b[1;32m---> 35\u001b[0m df \u001b[39m=\u001b[39m summarisation\u001b[39m.\u001b[39;49minitialize(engine\u001b[39m=\u001b[39;49m\u001b[39m'\u001b[39;49m\u001b[39mdavinci\u001b[39;49m\u001b[39m'\u001b[39;49m)\n\u001b[0;32m     37\u001b[0m \u001b[39m# submit the docment to summarise before embeddings search\u001b[39;00m\n\u001b[0;32m     38\u001b[0m response \u001b[39m=\u001b[39m summarisation\u001b[39m.\u001b[39mconvert_file_and_add_summarisation_and_embed(fullpath, filename, enable_translation\u001b[39m=\u001b[39m\u001b[39mFalse\u001b[39;00m)\n",
      "File \u001b[1;32mc:\\Arun\\Workspace\\OpenAI\\Azure-OpenAI-Summarisation-Embeddings-QnA\\utilities\\summarisation.py:24\u001b[0m, in \u001b[0;36minitialize\u001b[1;34m(engine)\u001b[0m\n\u001b[0;32m     22\u001b[0m openai\u001b[39m.\u001b[39mapi_key \u001b[39m=\u001b[39m os\u001b[39m.\u001b[39mgetenv(\u001b[39m\"\u001b[39m\u001b[39mOPENAI_API_KEY\u001b[39m\u001b[39m\"\u001b[39m)\n\u001b[0;32m     23\u001b[0m CHUNK_LIMIT \u001b[39m=\u001b[39m os\u001b[39m.\u001b[39mgetenv(\u001b[39m\"\u001b[39m\u001b[39mOPENAI_CHUNK_LIMIT\u001b[39m\u001b[39m\"\u001b[39m)\n\u001b[1;32m---> 24\u001b[0m redisembeddings\u001b[39m.\u001b[39;49minitialize()\n",
      "File \u001b[1;32mc:\\Arun/Workspace/OpenAI/Azure-OpenAI-Summarisation-Embeddings-QnA/utilities\\redisembeddings.py:34\u001b[0m, in \u001b[0;36minitialize\u001b[1;34m()\u001b[0m\n\u001b[0;32m     32\u001b[0m     \u001b[39mprint\u001b[39m(\u001b[39m\"\u001b[39m\u001b[39mCreating embeddings index\u001b[39m\u001b[39m\"\u001b[39m)\n\u001b[0;32m     33\u001b[0m     \u001b[39m# Create index \u001b[39;00m\n\u001b[1;32m---> 34\u001b[0m     create_index(redis_conn)\n\u001b[0;32m     35\u001b[0m \u001b[39mtry\u001b[39;00m:\n\u001b[0;32m     36\u001b[0m     \u001b[39mif\u001b[39;00m redis_conn\u001b[39m.\u001b[39mft(prompt_index_name)\u001b[39m.\u001b[39minfo():\n",
      "File \u001b[1;32mc:\\Arun/Workspace/OpenAI/Azure-OpenAI-Summarisation-Embeddings-QnA/utilities\\redisembeddings.py:60\u001b[0m, in \u001b[0;36mcreate_index\u001b[1;34m(redis_conn, index_name, prefix, number_of_vectors, distance_metric)\u001b[0m\n\u001b[0;32m     52\u001b[0m embeddings \u001b[39m=\u001b[39m VectorField(\u001b[39m\"\u001b[39m\u001b[39membeddings\u001b[39m\u001b[39m\"\u001b[39m,\n\u001b[0;32m     53\u001b[0m             \u001b[39m\"\u001b[39m\u001b[39mHNSW\u001b[39m\u001b[39m\"\u001b[39m, {\n\u001b[0;32m     54\u001b[0m                 \u001b[39m\"\u001b[39m\u001b[39mTYPE\u001b[39m\u001b[39m\"\u001b[39m: \u001b[39m\"\u001b[39m\u001b[39mFLOAT32\u001b[39m\u001b[39m\"\u001b[39m,\n\u001b[1;32m   (...)\u001b[0m\n\u001b[0;32m     57\u001b[0m                 \u001b[39m\"\u001b[39m\u001b[39mINITIAL_CAP\u001b[39m\u001b[39m\"\u001b[39m: number_of_vectors,\n\u001b[0;32m     58\u001b[0m             })\n\u001b[0;32m     59\u001b[0m \u001b[39m# Create index    \u001b[39;00m\n\u001b[1;32m---> 60\u001b[0m redis_conn\u001b[39m.\u001b[39;49mft(index_name)\u001b[39m.\u001b[39;49mcreate_index(\n\u001b[0;32m     61\u001b[0m     fields \u001b[39m=\u001b[39;49m [text, embeddings, filename],\n\u001b[0;32m     62\u001b[0m     definition \u001b[39m=\u001b[39;49m IndexDefinition(prefix\u001b[39m=\u001b[39;49m[prefix], index_type\u001b[39m=\u001b[39;49mIndexType\u001b[39m.\u001b[39;49mHASH)\n\u001b[0;32m     63\u001b[0m )\n",
      "File \u001b[1;32mc:\\Arun\\Workspace\\OpenAI\\Azure-OpenAI-Summarisation-Embeddings-QnA\\.venv\\Lib\\site-packages\\redis\\commands\\search\\commands.py:141\u001b[0m, in \u001b[0;36mSearchCommands.create_index\u001b[1;34m(self, fields, no_term_offsets, no_field_flags, stopwords, definition, max_text_fields, temporary, no_highlight, no_term_frequencies, skip_initial_scan)\u001b[0m\n\u001b[0;32m    138\u001b[0m \u001b[39mexcept\u001b[39;00m \u001b[39mTypeError\u001b[39;00m:\n\u001b[0;32m    139\u001b[0m     args \u001b[39m+\u001b[39m\u001b[39m=\u001b[39m fields\u001b[39m.\u001b[39mredis_args()\n\u001b[1;32m--> 141\u001b[0m \u001b[39mreturn\u001b[39;00m \u001b[39mself\u001b[39;49m\u001b[39m.\u001b[39;49mexecute_command(\u001b[39m*\u001b[39;49margs)\n",
      "File \u001b[1;32mc:\\Arun\\Workspace\\OpenAI\\Azure-OpenAI-Summarisation-Embeddings-QnA\\.venv\\Lib\\site-packages\\redis\\client.py:1255\u001b[0m, in \u001b[0;36mRedis.execute_command\u001b[1;34m(self, *args, **options)\u001b[0m\n\u001b[0;32m   1253\u001b[0m pool \u001b[39m=\u001b[39m \u001b[39mself\u001b[39m\u001b[39m.\u001b[39mconnection_pool\n\u001b[0;32m   1254\u001b[0m command_name \u001b[39m=\u001b[39m args[\u001b[39m0\u001b[39m]\n\u001b[1;32m-> 1255\u001b[0m conn \u001b[39m=\u001b[39m \u001b[39mself\u001b[39m\u001b[39m.\u001b[39mconnection \u001b[39mor\u001b[39;00m pool\u001b[39m.\u001b[39;49mget_connection(command_name, \u001b[39m*\u001b[39;49m\u001b[39m*\u001b[39;49moptions)\n\u001b[0;32m   1257\u001b[0m \u001b[39mtry\u001b[39;00m:\n\u001b[0;32m   1258\u001b[0m     \u001b[39mreturn\u001b[39;00m conn\u001b[39m.\u001b[39mretry\u001b[39m.\u001b[39mcall_with_retry(\n\u001b[0;32m   1259\u001b[0m         \u001b[39mlambda\u001b[39;00m: \u001b[39mself\u001b[39m\u001b[39m.\u001b[39m_send_command_parse_response(\n\u001b[0;32m   1260\u001b[0m             conn, command_name, \u001b[39m*\u001b[39margs, \u001b[39m*\u001b[39m\u001b[39m*\u001b[39moptions\n\u001b[0;32m   1261\u001b[0m         ),\n\u001b[0;32m   1262\u001b[0m         \u001b[39mlambda\u001b[39;00m error: \u001b[39mself\u001b[39m\u001b[39m.\u001b[39m_disconnect_raise(conn, error),\n\u001b[0;32m   1263\u001b[0m     )\n",
      "File \u001b[1;32mc:\\Arun\\Workspace\\OpenAI\\Azure-OpenAI-Summarisation-Embeddings-QnA\\.venv\\Lib\\site-packages\\redis\\connection.py:1427\u001b[0m, in \u001b[0;36mConnectionPool.get_connection\u001b[1;34m(self, command_name, *keys, **options)\u001b[0m\n\u001b[0;32m   1423\u001b[0m     \u001b[39mself\u001b[39m\u001b[39m.\u001b[39m_in_use_connections\u001b[39m.\u001b[39madd(connection)\n\u001b[0;32m   1425\u001b[0m \u001b[39mtry\u001b[39;00m:\n\u001b[0;32m   1426\u001b[0m     \u001b[39m# ensure this connection is connected to Redis\u001b[39;00m\n\u001b[1;32m-> 1427\u001b[0m     connection\u001b[39m.\u001b[39;49mconnect()\n\u001b[0;32m   1428\u001b[0m     \u001b[39m# connections that the pool provides should be ready to send\u001b[39;00m\n\u001b[0;32m   1429\u001b[0m     \u001b[39m# a command. if not, the connection was either returned to the\u001b[39;00m\n\u001b[0;32m   1430\u001b[0m     \u001b[39m# pool before all data has been read or the socket has been\u001b[39;00m\n\u001b[0;32m   1431\u001b[0m     \u001b[39m# closed. either way, reconnect and verify everything is good.\u001b[39;00m\n\u001b[0;32m   1432\u001b[0m     \u001b[39mtry\u001b[39;00m:\n",
      "File \u001b[1;32mc:\\Arun\\Workspace\\OpenAI\\Azure-OpenAI-Summarisation-Embeddings-QnA\\.venv\\Lib\\site-packages\\redis\\connection.py:630\u001b[0m, in \u001b[0;36mConnection.connect\u001b[1;34m(self)\u001b[0m\n\u001b[0;32m    628\u001b[0m     \u001b[39mraise\u001b[39;00m \u001b[39mTimeoutError\u001b[39;00m(\u001b[39m\"\u001b[39m\u001b[39mTimeout connecting to server\u001b[39m\u001b[39m\"\u001b[39m)\n\u001b[0;32m    629\u001b[0m \u001b[39mexcept\u001b[39;00m \u001b[39mOSError\u001b[39;00m \u001b[39mas\u001b[39;00m e:\n\u001b[1;32m--> 630\u001b[0m     \u001b[39mraise\u001b[39;00m \u001b[39mConnectionError\u001b[39;00m(\u001b[39mself\u001b[39m\u001b[39m.\u001b[39m_error_message(e))\n\u001b[0;32m    632\u001b[0m \u001b[39mself\u001b[39m\u001b[39m.\u001b[39m_sock \u001b[39m=\u001b[39m sock\n\u001b[0;32m    633\u001b[0m \u001b[39mtry\u001b[39;00m:\n",
      "\u001b[1;31mConnectionError\u001b[0m: Error 11001 connecting to YOUR REDIS STORE ENDPOINT:6379. getaddrinfo failed."
     ]
    }
   ],
   "source": [
    "# code to create the summarisation for the large documents (more than 20-3o pages) \n",
    "import sys\n",
    "# set the path for utilities files if running local machine\n",
    "sys.path.append('c:/Arun/Workspace/OpenAI/Azure-OpenAI-Summarisation-Embeddings-QnA/utilities/')\n",
    "\n",
    "import os\n",
    "# get the open AI completion for summasiation\n",
    "from utilities import summarisation\n",
    "from utilities import utils\n",
    "from utilities import redisembeddings\n",
    "\n",
    "# set Openai environment variables\n",
    "os.environ[\"OPENAI_ENGINES\"] = \"text-davinci-003\"\n",
    "os.environ[\"OPENAI_EMBEDDINGS_ENGINE_DOC\"] = \"text-embedding-ada-002\"\n",
    "os.environ[\"OPENAI_EMBEDDINGS_ENGINE_QUERY\"] = \"text-embedding-ada-002\"\n",
    "os.environ[\"OPENAI_API_BASE\"] = \"YOUR OPENAI RESOURCE ENDPOINT\"\n",
    "os.environ[\"OPENAI_API_KEY\"] = \"YOUR OPENAI RESOURCE ENDPOINT KEY\"\n",
    "os.environ[\"OPENAI_CHUNK_LIMIT\"] = \"18000\"\n",
    "os.environ[\"REDIS_ADDRESS\"] = \"YOUR REDIS STORE ENDPOINT\"\n",
    "os.environ[\"REDIS_PASSWORD\"] = \"YOUR REDIS STORE ENDPOINT PASSWORD\"\n",
    "os.environ[\"FORM_RECOGNIZER_ENDPOINT\"] = \"YOUR FORM RECOGNIZER ENDPOINT\"\n",
    "os.environ[\"FORM_RECOGNIZER_KEY\"] = \"YOUR FORM RECOGNIZER ENDPOINT KEY\"\n",
    "os.environ['BLOB_ACCOUNT_NAME'] = \"YOUR BLOB STORAGE NAME\"\n",
    "os.environ['BLOB_ACCOUNT_KEY'] = \"YOUR BLOB STORAGE KEY\"\n",
    "os.environ['BLOB_CONTAINER_NAME'] = \"documents\"\n",
    "os.putenv('PAGES_PER_EMBEDDINGS',\"1\")\n",
    "\n",
    "\n",
    "\n",
    "# full path of the document that needs embed and search\n",
    "fullpath=\"DOCUMENT FULL PATH\"\n",
    "filename=\"DOCUMENT NAME\"\n",
    "\n",
    "# initialise all the required parameters for OpenAI to run\n",
    "df = summarisation.initialize(engine='davinci')\n",
    "\n",
    "# submit the docment to summarise before embeddings search\n",
    "response = summarisation.convert_file_and_add_summarisation_and_embed(fullpath, filename, enable_translation=False)\n",
    "\n",
    "print(\"response->\",response)\n",
    "\n",
    "# get the open AI completion after large docs summerisation and embeddings\n",
    "\n",
    "# get the query from user to search the embeddings\n",
    "completion_questions = input()\n",
    "\n",
    "df = utils.initialize(engine='davinci')\n",
    "embeedings_engine=\"davinci\"\n",
    "prompt=\"\"\n",
    "model = \"text-davinci-003\"\n",
    "limit_response=True\n",
    "tokens_response=100\n",
    "temperature=0.0\n",
    "#response = utils.search_semantic_redis(df, completion_questions, n=3, pprint=False, engine=embeedings_engine)\n",
    "#response = utils.get_semantic_answer(df, question=completion_questions, explicit_prompt=prompt ,model=model, engine=embeedings_engine, limit_response=limit_response, tokens_response=tokens_response, temperature=temperature)\n",
    "#print(\"search_semantic_redis --->:\",response)\n",
    "#print(response['text'][1])\n",
    "\n",
    "\n",
    "response = utils.get_semantic_answer(df, completion_questions, explicit_prompt=\"\", model=model, engine='babbage', limit_response=True, tokens_response=100, temperature=0.0)\n",
    "#print(\"after completion--->1\",)\n",
    "\n",
    "print(\"get_semantic_answer --->:1\",f\"{response}\\n\\n\\n\")\n",
    "print(\"get_semantic_answer --->:2\",f\"{response[0].encode().decode()}\\n\\n\\n\")\n",
    "#print(f\"{response['choices'][0]['text'].encode().decode()}\\n\\n\\n\")\n"
   ]
  }
 ],
 "metadata": {
  "kernelspec": {
   "display_name": ".venv",
   "language": "python",
   "name": "python3"
  },
  "language_info": {
   "codemirror_mode": {
    "name": "ipython",
    "version": 3
   },
   "file_extension": ".py",
   "mimetype": "text/x-python",
   "name": "python",
   "nbconvert_exporter": "python",
   "pygments_lexer": "ipython3",
   "version": "3.11.0"
  },
  "orig_nbformat": 4
 },
 "nbformat": 4,
 "nbformat_minor": 2
}
